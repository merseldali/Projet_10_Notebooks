{
 "cells": [
  {
   "cell_type": "markdown",
   "id": "2872c7e8-4502-4cc3-a9f8-0a1e668b4fb6",
   "metadata": {},
   "source": [
    "# Import des librairies"
   ]
  },
  {
   "cell_type": "code",
   "execution_count": 18,
   "id": "a55dc09d-720d-4833-94fa-43a4a913c467",
   "metadata": {},
   "outputs": [
    {
     "name": "stdout",
     "output_type": "stream",
     "text": [
      "Requirement already satisfied: azure-cognitiveservices-language-luis in /usr/local/lib/python3.9/dist-packages (0.7.0)\n",
      "Requirement already satisfied: azure-common~=1.1 in /usr/local/lib/python3.9/dist-packages (from azure-cognitiveservices-language-luis) (1.1.28)\n",
      "Requirement already satisfied: msrest>=0.5.0 in /usr/local/lib/python3.9/dist-packages (from azure-cognitiveservices-language-luis) (0.7.1)\n",
      "Requirement already satisfied: msrestazure<2.0.0,>=0.4.32 in /usr/local/lib/python3.9/dist-packages (from azure-cognitiveservices-language-luis) (0.6.4)\n",
      "Requirement already satisfied: certifi>=2017.4.17 in /usr/lib/python3/dist-packages (from msrest>=0.5.0->azure-cognitiveservices-language-luis) (2019.11.28)\n",
      "Requirement already satisfied: isodate>=0.6.0 in /usr/lib/python3/dist-packages (from msrest>=0.5.0->azure-cognitiveservices-language-luis) (0.6.0)\n",
      "Requirement already satisfied: requests~=2.16 in /usr/local/lib/python3.9/dist-packages (from msrest>=0.5.0->azure-cognitiveservices-language-luis) (2.28.1)\n",
      "Requirement already satisfied: requests-oauthlib>=0.5.0 in /usr/local/lib/python3.9/dist-packages (from msrest>=0.5.0->azure-cognitiveservices-language-luis) (1.3.1)\n",
      "Requirement already satisfied: azure-core>=1.24.0 in /usr/local/lib/python3.9/dist-packages (from msrest>=0.5.0->azure-cognitiveservices-language-luis) (1.26.2)\n",
      "Requirement already satisfied: six in /usr/lib/python3/dist-packages (from msrestazure<2.0.0,>=0.4.32->azure-cognitiveservices-language-luis) (1.14.0)\n",
      "Requirement already satisfied: adal<2.0.0,>=0.6.0 in /usr/local/lib/python3.9/dist-packages (from msrestazure<2.0.0,>=0.4.32->azure-cognitiveservices-language-luis) (1.2.7)\n",
      "Requirement already satisfied: python-dateutil<3,>=2.1.0 in /usr/local/lib/python3.9/dist-packages (from adal<2.0.0,>=0.6.0->msrestazure<2.0.0,>=0.4.32->azure-cognitiveservices-language-luis) (2.8.2)\n",
      "Requirement already satisfied: cryptography>=1.1.0 in /usr/local/lib/python3.9/dist-packages (from adal<2.0.0,>=0.6.0->msrestazure<2.0.0,>=0.4.32->azure-cognitiveservices-language-luis) (39.0.0)\n",
      "Requirement already satisfied: PyJWT<3,>=1.0.0 in /usr/local/lib/python3.9/dist-packages (from adal<2.0.0,>=0.6.0->msrestazure<2.0.0,>=0.4.32->azure-cognitiveservices-language-luis) (2.6.0)\n",
      "Requirement already satisfied: typing-extensions>=4.0.1 in /usr/local/lib/python3.9/dist-packages (from azure-core>=1.24.0->msrest>=0.5.0->azure-cognitiveservices-language-luis) (4.3.0)\n",
      "Requirement already satisfied: idna<4,>=2.5 in /usr/lib/python3/dist-packages (from requests~=2.16->msrest>=0.5.0->azure-cognitiveservices-language-luis) (2.8)\n",
      "Requirement already satisfied: charset-normalizer<3,>=2 in /usr/local/lib/python3.9/dist-packages (from requests~=2.16->msrest>=0.5.0->azure-cognitiveservices-language-luis) (2.1.0)\n",
      "Requirement already satisfied: urllib3<1.27,>=1.21.1 in /usr/local/lib/python3.9/dist-packages (from requests~=2.16->msrest>=0.5.0->azure-cognitiveservices-language-luis) (1.26.10)\n",
      "Requirement already satisfied: oauthlib>=3.0.0 in /usr/local/lib/python3.9/dist-packages (from requests-oauthlib>=0.5.0->msrest>=0.5.0->azure-cognitiveservices-language-luis) (3.2.0)\n",
      "Requirement already satisfied: cffi>=1.12 in /usr/local/lib/python3.9/dist-packages (from cryptography>=1.1.0->adal<2.0.0,>=0.6.0->msrestazure<2.0.0,>=0.4.32->azure-cognitiveservices-language-luis) (1.15.1)\n",
      "Requirement already satisfied: pycparser in /usr/local/lib/python3.9/dist-packages (from cffi>=1.12->cryptography>=1.1.0->adal<2.0.0,>=0.6.0->msrestazure<2.0.0,>=0.4.32->azure-cognitiveservices-language-luis) (2.21)\n",
      "\u001b[33mWARNING: Running pip as the 'root' user can result in broken permissions and conflicting behaviour with the system package manager. It is recommended to use a virtual environment instead: https://pip.pypa.io/warnings/venv\u001b[0m\u001b[33m\n",
      "\u001b[0mRequirement already satisfied: msrest in /usr/local/lib/python3.9/dist-packages (0.7.1)\n",
      "Requirement already satisfied: requests~=2.16 in /usr/local/lib/python3.9/dist-packages (from msrest) (2.28.1)\n",
      "Requirement already satisfied: isodate>=0.6.0 in /usr/lib/python3/dist-packages (from msrest) (0.6.0)\n",
      "Requirement already satisfied: requests-oauthlib>=0.5.0 in /usr/local/lib/python3.9/dist-packages (from msrest) (1.3.1)\n",
      "Requirement already satisfied: azure-core>=1.24.0 in /usr/local/lib/python3.9/dist-packages (from msrest) (1.26.2)\n",
      "Requirement already satisfied: certifi>=2017.4.17 in /usr/lib/python3/dist-packages (from msrest) (2019.11.28)\n",
      "Requirement already satisfied: six>=1.11.0 in /usr/lib/python3/dist-packages (from azure-core>=1.24.0->msrest) (1.14.0)\n",
      "Requirement already satisfied: typing-extensions>=4.0.1 in /usr/local/lib/python3.9/dist-packages (from azure-core>=1.24.0->msrest) (4.3.0)\n",
      "Requirement already satisfied: charset-normalizer<3,>=2 in /usr/local/lib/python3.9/dist-packages (from requests~=2.16->msrest) (2.1.0)\n",
      "Requirement already satisfied: idna<4,>=2.5 in /usr/lib/python3/dist-packages (from requests~=2.16->msrest) (2.8)\n",
      "Requirement already satisfied: urllib3<1.27,>=1.21.1 in /usr/local/lib/python3.9/dist-packages (from requests~=2.16->msrest) (1.26.10)\n",
      "Requirement already satisfied: oauthlib>=3.0.0 in /usr/local/lib/python3.9/dist-packages (from requests-oauthlib>=0.5.0->msrest) (3.2.0)\n",
      "\u001b[33mWARNING: Running pip as the 'root' user can result in broken permissions and conflicting behaviour with the system package manager. It is recommended to use a virtual environment instead: https://pip.pypa.io/warnings/venv\u001b[0m\u001b[33m\n",
      "\u001b[0m"
     ]
    }
   ],
   "source": [
    "import os\n",
    "import time\n",
    "import warnings\n",
    "from pathlib import Path\n",
    "import json\n",
    "\n",
    "import pandas as pd\n",
    "\n",
    "!pip install azure-cognitiveservices-language-luis\n",
    "from azure.cognitiveservices.language.luis.authoring import LUISAuthoringClient\n",
    "from azure.cognitiveservices.language.luis.runtime import LUISRuntimeClient\n",
    "from azure.cognitiveservices.language.luis.authoring.models import (\n",
    "    ApplicationCreateObject,\n",
    "    ExampleLabelObject,\n",
    "    EntityLabelObject,\n",
    ")\n",
    "\n",
    "!pip install msrest\n",
    "from msrest.authentication import CognitiveServicesCredentials\n",
    "\n",
    "from tqdm.notebook import tqdm_notebook as tqdm\n",
    "\n",
    "!pip install python-dotenv\n",
    "from dotenv import load_dotenv"
   ]
  },
  {
   "cell_type": "markdown",
   "id": "eed7a2a1-5024-435f-bec1-f3cf2303edac",
   "metadata": {},
   "source": [
    "# Chargement des fichiers"
   ]
  },
  {
   "cell_type": "code",
   "execution_count": 16,
   "id": "da349ce2-c43a-4fd4-97a8-d1c707ca93ad",
   "metadata": {},
   "outputs": [],
   "source": [
    "warnings.filterwarnings(\"ignore\", category=UserWarning)\n",
    "warnings.filterwarnings(\"ignore\", category=FutureWarning)\n",
    "\n",
    "load_dotenv(override=True)\n",
    "\n",
    "AZURE_LUIS_ENDPOINT_AUTHORING = os.getenv(\"AZURE_LUIS_ENDPOINT_AUTHORING\")\n",
    "AZURE_LUIS_ENDPOINT_PREDICTION = os.getenv(\"AZURE_LUIS_ENDPOINT_PREDICTION\")\n",
    "AZURE_LUIS_KEY_AUTHORING = os.getenv(\"AZURE_LUIS_KEY_AUTHORING\")\n",
    "AZURE_LUIS_KEY_PREDICTION = os.getenv(\"AZURE_LUIS_KEY_PREDICTION\")\n",
    "\n",
    "\n",
    "AZURE_LUIS_APP_NAME = \"P10_LUIS\"\n",
    "AZURE_LUIS_APP_VERSION = \"0.1\"\n",
    "\n",
    "AZURE_LUIS_APP_ID = \"98264326-e211-4266-8056-612c47607ea1\""
   ]
  },
  {
   "cell_type": "code",
   "execution_count": 4,
   "id": "961e2a7a-876e-499d-9588-af36afc1e955",
   "metadata": {},
   "outputs": [],
   "source": [
    "DATA_PATH = Path(\"/storage/P10/\")\n",
    "FRAMES_PATH = Path(DATA_PATH, \"frames.json\")"
   ]
  },
  {
   "cell_type": "code",
   "execution_count": 5,
   "id": "9ff54c70-752f-4878-832d-8a2b6890dda9",
   "metadata": {},
   "outputs": [],
   "source": [
    "# instanciate LUIS Authoring Client\n",
    "client = LUISAuthoringClient(\n",
    "    AZURE_LUIS_ENDPOINT_AUTHORING, CognitiveServicesCredentials(AZURE_LUIS_KEY_AUTHORING)\n",
    ")\n"
   ]
  },
  {
   "cell_type": "code",
   "execution_count": 6,
   "id": "ea31dcbf-aa53-4afd-b194-97a54bda85ac",
   "metadata": {},
   "outputs": [
    {
     "name": "stdout",
     "output_type": "stream",
     "text": [
      "Created LUIS app with ID 98264326-e211-4266-8056-612c47607ea1\n"
     ]
    }
   ],
   "source": [
    "## Create the LUIS Application\n",
    "\n",
    "# define app basics\n",
    "appDefinition = ApplicationCreateObject(\n",
    "    name=AZURE_LUIS_APP_NAME,\n",
    "    culture=\"en-us\",\n",
    ")\n",
    "\n",
    "# create app\n",
    "app_id = client.apps.add(appDefinition)\n",
    "\n",
    "AZURE_LUIS_APP_ID = app_id\n",
    "\n",
    "# get app id - necessary for all other changes\n",
    "print(\"Created LUIS app with ID {}\".format(app_id))"
   ]
  },
  {
   "cell_type": "code",
   "execution_count": 10,
   "id": "b7fb23d9-9b07-498a-8651-bd17551b289c",
   "metadata": {},
   "outputs": [],
   "source": [
    "## Add Intents\n",
    "\n",
    "book_id = client.model.add_intent(\n",
    "    app_id=app_id, version_id=AZURE_LUIS_APP_VERSION, name=\"Book\"\n",
    ")\n",
    "info_id = client.model.add_intent(\n",
    "    app_id=app_id, version_id=AZURE_LUIS_APP_VERSION, name=\"Info\"\n",
    ")"
   ]
  },
  {
   "cell_type": "code",
   "execution_count": 11,
   "id": "d2cf6f6e-cec8-4cfd-9df1-e9332ddb6418",
   "metadata": {},
   "outputs": [
    {
     "data": {
      "text/plain": [
       "<azure.cognitiveservices.language.luis.authoring.models._models_py3.OperationStatus at 0x7f204ad26670>"
      ]
     },
     "execution_count": 11,
     "metadata": {},
     "output_type": "execute_result"
    }
   ],
   "source": [
    "## Add entities\n",
    "\n",
    "# add Prebuilt entity\n",
    "client.model.add_prebuilt(\n",
    "    app_id=app_id,\n",
    "    version_id=AZURE_LUIS_APP_VERSION,\n",
    "    prebuilt_extractor_names=[\"geographyV2\"],\n",
    ")\n",
    "client.model.add_prebuilt(\n",
    "    app_id=app_id,\n",
    "    version_id=AZURE_LUIS_APP_VERSION,\n",
    "    prebuilt_extractor_names=[\"datetimeV2\"],\n",
    ")\n",
    "client.model.add_prebuilt(\n",
    "    app_id=app_id,\n",
    "    version_id=AZURE_LUIS_APP_VERSION,\n",
    "    prebuilt_extractor_names=[\"number\"],\n",
    ")\n",
    "\n",
    "# add entity to app\n",
    "or_city_id = client.model.add_entity(\n",
    "    app_id=app_id, version_id=AZURE_LUIS_APP_VERSION, name=\"or_city\"\n",
    ")\n",
    "client.features.add_entity_feature(\n",
    "    app_id=app_id,\n",
    "    version_id=AZURE_LUIS_APP_VERSION,\n",
    "    entity_id=or_city_id,\n",
    "    feature_relation_create_object={\n",
    "        \"model_name\": \"geographyV2\",\n",
    "    },\n",
    ")\n",
    "dst_city_id = client.model.add_entity(\n",
    "    app_id=app_id, version_id=AZURE_LUIS_APP_VERSION, name=\"dst_city\"\n",
    ")\n",
    "client.features.add_entity_feature(\n",
    "    app_id=app_id,\n",
    "    version_id=AZURE_LUIS_APP_VERSION,\n",
    "    entity_id=dst_city_id,\n",
    "    feature_relation_create_object={\n",
    "        \"model_name\": \"geographyV2\",\n",
    "    },\n",
    ")\n",
    "str_date_id = client.model.add_entity(\n",
    "    app_id=app_id, version_id=AZURE_LUIS_APP_VERSION, name=\"str_date\"\n",
    ")\n",
    "client.features.add_entity_feature(\n",
    "    app_id=app_id,\n",
    "    version_id=AZURE_LUIS_APP_VERSION,\n",
    "    entity_id=str_date_id,\n",
    "    feature_relation_create_object={\n",
    "        \"model_name\": \"datetimeV2\",\n",
    "    },\n",
    ")\n",
    "end_date_id = client.model.add_entity(\n",
    "    app_id=app_id, version_id=AZURE_LUIS_APP_VERSION, name=\"end_date\"\n",
    ")\n",
    "client.features.add_entity_feature(\n",
    "    app_id=app_id,\n",
    "    version_id=AZURE_LUIS_APP_VERSION,\n",
    "    entity_id=end_date_id,\n",
    "    feature_relation_create_object={\n",
    "        \"model_name\": \"datetimeV2\",\n",
    "    },\n",
    ")\n",
    "budget_id = client.model.add_entity(\n",
    "    app_id=app_id, version_id=AZURE_LUIS_APP_VERSION, name=\"budget\"\n",
    ")\n",
    "client.features.add_entity_feature(\n",
    "    app_id=app_id,\n",
    "    version_id=AZURE_LUIS_APP_VERSION,\n",
    "    entity_id=budget_id,\n",
    "    feature_relation_create_object={\n",
    "        \"model_name\": \"number\",\n",
    "    },\n",
    ")"
   ]
  },
  {
   "cell_type": "code",
   "execution_count": 14,
   "id": "b1d0d188-b502-4854-b46a-12d7c0b3309a",
   "metadata": {},
   "outputs": [
    {
     "data": {
      "application/vnd.jupyter.widget-view+json": {
       "model_id": "e373b7464eb8466393acde6fb75cc238",
       "version_major": 2,
       "version_minor": 0
      },
      "text/plain": [
       "  0%|          | 0/1369 [00:00<?, ?it/s]"
      ]
     },
     "metadata": {},
     "output_type": "display_data"
    },
    {
     "data": {
      "application/vnd.jupyter.widget-view+json": {
       "model_id": "b198e701cf1f403c98a359a7634ac032",
       "version_major": 2,
       "version_minor": 0
      },
      "text/plain": [
       "  0%|          | 0/97 [00:00<?, ?it/s]"
      ]
     },
     "metadata": {},
     "output_type": "display_data"
    }
   ],
   "source": [
    "## Format data for LUIS\n",
    "\n",
    "raw_data = pd.read_json(FRAMES_PATH)\n",
    "\n",
    "\n",
    "entities = [\"or_city\", \"dst_city\", \"str_date\", \"end_date\", \"budget\"]\n",
    "examples = []\n",
    "unique_utterances = []\n",
    "\n",
    "for turn in tqdm(raw_data[\"turns\"]):\n",
    "    for frame in turn:\n",
    "        if frame[\"author\"] == \"wizard\" or frame[\"text\"] in unique_utterances:\n",
    "            continue\n",
    "\n",
    "        unique_utterances.append(frame[\"text\"])\n",
    "\n",
    "        is_book = False\n",
    "        labels = []\n",
    "\n",
    "        for act in frame[\"labels\"][\"acts_without_refs\"]:\n",
    "            for arg in act[\"args\"]:\n",
    "                if arg[\"key\"] == \"intent\" and arg[\"val\"] == \"book\":\n",
    "                    is_book = True\n",
    "\n",
    "                if (\n",
    "                    arg[\"key\"] in entities\n",
    "                    and arg[\"val\"] is not None\n",
    "                    and frame[\"text\"].find(arg[\"val\"]) != -1\n",
    "                ):\n",
    "                    labels.append(\n",
    "                        EntityLabelObject(\n",
    "                            entity_name=arg[\"key\"],\n",
    "                            start_char_index=frame[\"text\"].find(arg[\"val\"]),\n",
    "                            end_char_index=frame[\"text\"].find(arg[\"val\"])\n",
    "                            + len(arg[\"val\"]),\n",
    "                        )\n",
    "                    )\n",
    "\n",
    "        if len(entities) > 0:\n",
    "            examples.append(\n",
    "                ExampleLabelObject(\n",
    "                    text=frame[\"text\"],\n",
    "                    intent_name=\"Book\" if is_book else \"Info\",\n",
    "                    entity_labels=labels,\n",
    "                )\n",
    "            )\n",
    "\n",
    "# add the examples in batch\n",
    "batch_size = 100\n",
    "for index in tqdm(range(0, len(examples), batch_size)):\n",
    "    client.examples.batch(\n",
    "        app_id=app_id,\n",
    "        version_id=AZURE_LUIS_APP_VERSION,\n",
    "        example_label_object_array=examples[index : index + batch_size],\n",
    "    )"
   ]
  },
  {
   "cell_type": "code",
   "execution_count": 6,
   "id": "c267c435-ee6d-46f2-9a52-decd21be67bb",
   "metadata": {},
   "outputs": [
    {
     "name": "stdout",
     "output_type": "stream",
     "text": [
      "Waiting 10 seconds for training to complete...\n",
      "Waiting 10 seconds for training to complete...\n",
      "Waiting 10 seconds for training to complete...\n",
      "Waiting 10 seconds for training to complete...\n",
      "Waiting 10 seconds for training to complete...\n",
      "Waiting 10 seconds for training to complete...\n",
      "Waiting 10 seconds for training to complete...\n",
      "Waiting 10 seconds for training to complete...\n",
      "Waiting 10 seconds for training to complete...\n",
      "Waiting 10 seconds for training to complete...\n",
      "Waiting 10 seconds for training to complete...\n",
      "Waiting 10 seconds for training to complete...\n",
      "Waiting 10 seconds for training to complete...\n",
      "Waiting 10 seconds for training to complete...\n",
      "Waiting 10 seconds for training to complete...\n",
      "Waiting 10 seconds for training to complete...\n",
      "Waiting 10 seconds for training to complete...\n",
      "Waiting 10 seconds for training to complete...\n",
      "Waiting 10 seconds for training to complete...\n",
      "Waiting 10 seconds for training to complete...\n",
      "Waiting 10 seconds for training to complete...\n",
      "trained\n"
     ]
    }
   ],
   "source": [
    "client.train.train_version(AZURE_LUIS_APP_ID, AZURE_LUIS_APP_VERSION)\n",
    "waiting = True\n",
    "while waiting:\n",
    "    info = client.train.get_status(AZURE_LUIS_APP_ID, AZURE_LUIS_APP_VERSION)\n",
    "\n",
    "    # get_status returns a list of training statuses, one for each model. Loop through them and make sure all are done.\n",
    "    waiting = any(map(lambda x: 'Queued' == x.details.status or 'InProgress' == x.details.status, info))\n",
    "    if waiting:\n",
    "        print (\"Waiting 10 seconds for training to complete...\")\n",
    "        time.sleep(10)\n",
    "    else: \n",
    "        print (\"trained\")\n",
    "        waiting = False"
   ]
  },
  {
   "cell_type": "code",
   "execution_count": 7,
   "id": "f15f47a1-d212-422c-b2fe-2e11e9df2418",
   "metadata": {},
   "outputs": [
    {
     "name": "stdout",
     "output_type": "stream",
     "text": [
      "{'additional_properties': {'directVersionPublish': False}, 'version_id': '0.1', 'is_staging': False, 'endpoint_url': 'https://westeurope.api.cognitive.microsoft.com/luis/v2.0/apps/98264326-e211-4266-8056-612c47607ea1', 'region': 'westeurope, northeurope, uksouth, ukwest, francecentral, francesouth, norwayeast, norwaywest', 'assigned_endpoint_key': None, 'endpoint_region': 'westeurope', 'failed_regions': '', 'published_date_time': '2023-01-11T01:43:29Z'}\n"
     ]
    }
   ],
   "source": [
    "# Mark the app as public so we can query it using any prediction endpoint.\n",
    "# Note: For production scenarios, you should instead assign the app to your own LUIS prediction endpoint. See:\n",
    "# https://docs.microsoft.com/en-gb/azure/cognitive-services/luis/luis-how-to-azure-subscription#assign-a-resource-to-an-app\n",
    "client.apps.update_settings(AZURE_LUIS_APP_ID, is_public=True)\n",
    "\n",
    "responseEndpointInfo = client.apps.publish(AZURE_LUIS_APP_ID, AZURE_LUIS_APP_VERSION, is_staging=False)\n",
    "\n",
    "print(responseEndpointInfo)"
   ]
  },
  {
   "cell_type": "code",
   "execution_count": 19,
   "id": "66834b6c-f348-4321-a969-d68f65cb20cb",
   "metadata": {},
   "outputs": [
    {
     "name": "stdout",
     "output_type": "stream",
     "text": [
      "Top intent: Book\n",
      "Sentiment: None\n",
      "Intents: \n",
      "\t\"Book\"\n",
      "Entities: {'or_city': ['Lyon'], 'geographyV2': [{'value': 'Lyon', 'type': 'city'}, {'value': 'New York City', 'type': 'city'}], 'dst_city': ['New York City'], 'budget': ['500'], 'number': [500]}\n"
     ]
    }
   ],
   "source": [
    "clientRuntime = LUISRuntimeClient(endpoint=AZURE_LUIS_ENDPOINT_PREDICTION, credentials=CognitiveServicesCredentials(AZURE_LUIS_KEY_PREDICTION))\n",
    "\n",
    "# Production == slot name\n",
    "predictionRequest = { \"query\" : \"I want to book a ticket from Lyon to New York City with a budget of 500 euros maximum.\" }\n",
    "\n",
    "predictionResponse = clientRuntime.prediction.get_slot_prediction(AZURE_LUIS_APP_ID, \"Production\", predictionRequest)\n",
    "print(\"Top intent: {}\".format(predictionResponse.prediction.top_intent))\n",
    "print(\"Intents: \")\n",
    "\n",
    "for intent in predictionResponse.prediction.intents:\n",
    "    print(\"\\t{}\".format (json.dumps (intent)))\n",
    "print(\"Entities: {}\".format (predictionResponse.prediction.entities))"
   ]
  },
  {
   "cell_type": "code",
   "execution_count": null,
   "id": "9ddb0961-121e-4efe-90d5-e45db2b48033",
   "metadata": {},
   "outputs": [],
   "source": []
  }
 ],
 "metadata": {
  "kernelspec": {
   "display_name": "Python 3 (ipykernel)",
   "language": "python",
   "name": "python3"
  },
  "language_info": {
   "codemirror_mode": {
    "name": "ipython",
    "version": 3
   },
   "file_extension": ".py",
   "mimetype": "text/x-python",
   "name": "python",
   "nbconvert_exporter": "python",
   "pygments_lexer": "ipython3",
   "version": "3.9.13"
  }
 },
 "nbformat": 4,
 "nbformat_minor": 5
}
